{
 "cells": [
  {
   "cell_type": "code",
   "execution_count": 1,
   "metadata": {},
   "outputs": [],
   "source": [
    "words = open('../names.txt','r').read().splitlines()"
   ]
  },
  {
   "cell_type": "code",
   "execution_count": 2,
   "metadata": {},
   "outputs": [],
   "source": [
    "import torch"
   ]
  },
  {
   "cell_type": "code",
   "execution_count": 28,
   "metadata": {},
   "outputs": [],
   "source": [
    "# stoi and itos dicts\n",
    "chars = ['.']+sorted([chr(char) for char in range(ord('a'),ord('z')+1)])+['<s>']\n",
    "stoi = {s:i for i,s in enumerate(chars)}\n",
    "itos = {i:s for s,i in stoi.items()}"
   ]
  },
  {
   "cell_type": "code",
   "execution_count": 19,
   "metadata": {},
   "outputs": [],
   "source": [
    "N = torch.zeros(28,28,27) # cuz I wouldn't expect <s> for the 3rd dimension. and anyway its just a filler character."
   ]
  },
  {
   "cell_type": "code",
   "execution_count": 20,
   "metadata": {},
   "outputs": [],
   "source": [
    "#filling the N array.\n",
    "for word in words:\n",
    "    chs = ['.']+['<s>']+list(word)+['.']\n",
    "    for cha,chb,chc in zip(chs,chs[1:],chs[2:]):\n",
    "        # print(f'cha,chb,chc : {cha,chb,chc}')\n",
    "        i,j,k = stoi[cha],stoi[chb],stoi[chc]\n",
    "        N[i,j,k]+=1"
   ]
  },
  {
   "cell_type": "code",
   "execution_count": 21,
   "metadata": {},
   "outputs": [
    {
     "data": {
      "text/plain": [
       "tensor(228146.)"
      ]
     },
     "execution_count": 21,
     "metadata": {},
     "output_type": "execute_result"
    }
   ],
   "source": [
    "N.sum() # the count will be same as you can imagine each increment is like sliding over the name and turns out with your current approach you are sliding as much as when you were doing bigrams with just window size of 3."
   ]
  },
  {
   "cell_type": "code",
   "execution_count": null,
   "metadata": {},
   "outputs": [],
   "source": [
    "P = (N+1).float()\n",
    "# print(P.sum(dim=2).shape) #wrong # torch.Size([28, 28])\n",
    "# print(P.shape) # torch.Size([28, 28, 27])\n",
    "# P.sum(dim=2,keepdim=True).shape #torch.Size([28, 28, 1])\n",
    "P/=P.sum(dim=2,keepdim=True)"
   ]
  },
  {
   "cell_type": "code",
   "execution_count": 24,
   "metadata": {},
   "outputs": [],
   "source": [
    "log_likelihood=0.0\n",
    "ncount=0\n",
    "for w in words:\n",
    "    chs = ['.']+['<s>']+list(word)+['.']\n",
    "    for cha,chb,chc in zip(chs,chs[1:],chs[2:]):\n",
    "        i,j,k = stoi[cha],stoi[chb],stoi[chc]\n",
    "        prob = P[i,j,k]\n",
    "        log_likelihood+=torch.log(prob)\n",
    "        ncount+=1\n",
    "neg_log_likelihood = -log_likelihood\n",
    "mean_neg_log_likelihood = neg_log_likelihood/ncount"
   ]
  },
  {
   "cell_type": "code",
   "execution_count": 25,
   "metadata": {},
   "outputs": [
    {
     "name": "stdout",
     "output_type": "stream",
     "text": [
      "neg_log_likelihood=tensor(735231.7500)\n",
      "mean_neg_log_likelihood=tensor(3.8254)\n"
     ]
    }
   ],
   "source": [
    "print(f'{neg_log_likelihood=}')\n",
    "print(f'{mean_neg_log_likelihood=}')"
   ]
  },
  {
   "cell_type": "code",
   "execution_count": 34,
   "metadata": {},
   "outputs": [
    {
     "name": "stdout",
     "output_type": "stream",
     "text": [
      "brianie\n",
      "timara\n",
      "royene\n",
      "abhjpper\n",
      "katten\n",
      "ne\n",
      "gehilam\n",
      "maylyn\n",
      "ger\n",
      "ney\n"
     ]
    }
   ],
   "source": [
    "g = torch.Generator().manual_seed(2147483647+27)\n",
    "\n",
    "\n",
    "for _ in range(10):\n",
    "    nameList = []\n",
    "    ix,iy =0,27\n",
    "    while True:\n",
    "        p = P[ix,iy]\n",
    "        iz = torch.multinomial(p,num_samples=1,replacement=True,generator=g).item()\n",
    "        if iz==0:\n",
    "            break\n",
    "        nameList.append(itos[iz])\n",
    "        ix,iy=iy,iz\n",
    "    print(''.join(nameList))"
   ]
  }
 ],
 "metadata": {
  "kernelspec": {
   "display_name": "Python (virtual micrograd)",
   "language": "python",
   "name": "myenv"
  },
  "language_info": {
   "codemirror_mode": {
    "name": "ipython",
    "version": 3
   },
   "file_extension": ".py",
   "mimetype": "text/x-python",
   "name": "python",
   "nbconvert_exporter": "python",
   "pygments_lexer": "ipython3",
   "version": "3.12.5"
  }
 },
 "nbformat": 4,
 "nbformat_minor": 2
}
