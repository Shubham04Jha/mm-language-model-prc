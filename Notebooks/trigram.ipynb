{
 "cells": [
  {
   "cell_type": "code",
   "execution_count": 1,
   "metadata": {},
   "outputs": [],
   "source": [
    "words = open('../names.txt','r').read().splitlines()"
   ]
  },
  {
   "cell_type": "code",
   "execution_count": 2,
   "metadata": {},
   "outputs": [],
   "source": [
    "import torch"
   ]
  },
  {
   "cell_type": "code",
   "execution_count": 28,
   "metadata": {},
   "outputs": [],
   "source": [
    "# stoi and itos dicts\n",
    "chars = ['.']+sorted([chr(char) for char in range(ord('a'),ord('z')+1)])+['<s>']\n",
    "stoi = {s:i for i,s in enumerate(chars)}\n",
    "itos = {i:s for s,i in stoi.items()}"
   ]
  },
  {
   "cell_type": "code",
   "execution_count": 19,
   "metadata": {},
   "outputs": [],
   "source": [
    "N = torch.zeros(28,28,27) # cuz I wouldn't expect <s> for the 3rd dimension. and anyway its just a filler character."
   ]
  },
  {
   "cell_type": "code",
   "execution_count": 20,
   "metadata": {},
   "outputs": [],
   "source": [
    "#filling the N array.\n",
    "for word in words:\n",
    "    chs = ['.']+['<s>']+list(word)+['.']\n",
    "    for cha,chb,chc in zip(chs,chs[1:],chs[2:]):\n",
    "        # print(f'cha,chb,chc : {cha,chb,chc}')\n",
    "        i,j,k = stoi[cha],stoi[chb],stoi[chc]\n",
    "        N[i,j,k]+=1"
   ]
  },
  {
   "cell_type": "code",
   "execution_count": 21,
   "metadata": {},
   "outputs": [
    {
     "data": {
      "text/plain": [
       "tensor(228146.)"
      ]
     },
     "execution_count": 21,
     "metadata": {},
     "output_type": "execute_result"
    }
   ],
   "source": [
    "N.sum() # the count will be same as you can imagine each increment is like sliding over the name and turns out with your current approach you are sliding as much as when you were doing bigrams with just window size of 3."
   ]
  },
  {
   "cell_type": "code",
   "execution_count": null,
   "metadata": {},
   "outputs": [],
   "source": [
    "P = (N+1).float()\n",
    "# print(P.sum(dim=2).shape) #wrong # torch.Size([28, 28])\n",
    "# print(P.shape) # torch.Size([28, 28, 27])\n",
    "# P.sum(dim=2,keepdim=True).shape #torch.Size([28, 28, 1])\n",
    "P/=P.sum(dim=2,keepdim=True)"
   ]
  },
  {
   "cell_type": "code",
   "execution_count": 24,
   "metadata": {},
   "outputs": [],
   "source": [
    "log_likelihood=0.0\n",
    "ncount=0\n",
    "for w in words:\n",
    "    chs = ['.']+['<s>']+list(word)+['.']\n",
    "    for cha,chb,chc in zip(chs,chs[1:],chs[2:]):\n",
    "        i,j,k = stoi[cha],stoi[chb],stoi[chc]\n",
    "        prob = P[i,j,k]\n",
    "        log_likelihood+=torch.log(prob)\n",
    "        ncount+=1\n",
    "neg_log_likelihood = -log_likelihood\n",
    "mean_neg_log_likelihood = neg_log_likelihood/ncount"
   ]
  },
  {
   "cell_type": "code",
   "execution_count": 25,
   "metadata": {},
   "outputs": [
    {
     "name": "stdout",
     "output_type": "stream",
     "text": [
      "neg_log_likelihood=tensor(735231.7500)\n",
      "mean_neg_log_likelihood=tensor(3.8254)\n"
     ]
    }
   ],
   "source": [
    "print(f'{neg_log_likelihood=}')\n",
    "print(f'{mean_neg_log_likelihood=}')"
   ]
  },
  {
   "cell_type": "code",
   "execution_count": 34,
   "metadata": {},
   "outputs": [
    {
     "name": "stdout",
     "output_type": "stream",
     "text": [
      "brianie\n",
      "timara\n",
      "royene\n",
      "abhjpper\n",
      "katten\n",
      "ne\n",
      "gehilam\n",
      "maylyn\n",
      "ger\n",
      "ney\n"
     ]
    }
   ],
   "source": [
    "g = torch.Generator().manual_seed(2147483647+27)\n",
    "\n",
    "\n",
    "for _ in range(10):\n",
    "    nameList = []\n",
    "    ix,iy =0,27\n",
    "    while True:\n",
    "        p = P[ix,iy]\n",
    "        iz = torch.multinomial(p,num_samples=1,replacement=True,generator=g).item()\n",
    "        if iz==0:\n",
    "            break\n",
    "        nameList.append(itos[iz])\n",
    "        ix,iy=iy,iz\n",
    "    print(''.join(nameList))"
   ]
  },
  {
   "cell_type": "markdown",
   "metadata": {},
   "source": [
    "Implementing the neural net."
   ]
  },
  {
   "cell_type": "code",
   "execution_count": 35,
   "metadata": {},
   "outputs": [],
   "source": [
    "nnNames = list(words)"
   ]
  },
  {
   "cell_type": "code",
   "execution_count": 36,
   "metadata": {},
   "outputs": [],
   "source": [
    "import random\n",
    "random.shuffle(nnNames)\n",
    "\n",
    "train_size = int(0.8 * len(nnNames))\n",
    "dev_size = int(0.1 * len(nnNames))\n",
    "test_size = len(nnNames) - train_size - dev_size\n",
    "\n",
    "train_data = nnNames[:train_size]\n",
    "dev_data = nnNames[train_size:train_size + dev_size]\n",
    "test_data = nnNames[train_size + dev_size:]"
   ]
  },
  {
   "cell_type": "code",
   "execution_count": 37,
   "metadata": {},
   "outputs": [],
   "source": [
    "xs,ys,zs = [],[],[]\n",
    "\n",
    "for name in nnNames:\n",
    "    n = ['.']+['<s>']+list(word)+['.']\n",
    "    for cha,chb,chc in zip(n,n[1:],n[2:]):\n",
    "        xs.append(stoi[cha])\n",
    "        ys.append(stoi[chb])\n",
    "        zs.append(stoi[chc])\n",
    "\n",
    "xs,ys,zs = torch.tensor(xs),torch.tensor(ys),torch.tensor(zs)"
   ]
  },
  {
   "cell_type": "code",
   "execution_count": 38,
   "metadata": {},
   "outputs": [
    {
     "data": {
      "text/plain": [
       "(torch.Size([192198]), torch.Size([192198]), torch.Size([192198]))"
      ]
     },
     "execution_count": 38,
     "metadata": {},
     "output_type": "execute_result"
    }
   ],
   "source": [
    "xs.shape,ys.shape,zs.shape"
   ]
  },
  {
   "cell_type": "code",
   "execution_count": 39,
   "metadata": {},
   "outputs": [],
   "source": [
    "import torch.nn.functional as F"
   ]
  },
  {
   "cell_type": "code",
   "execution_count": 40,
   "metadata": {},
   "outputs": [],
   "source": [
    "# was thinking like how we used W as the same dimension as N in bigram I think I should do the same here\n",
    "W = torch.randn((28,28,27),requires_grad=True)\n"
   ]
  },
  {
   "cell_type": "code",
   "execution_count": 51,
   "metadata": {},
   "outputs": [],
   "source": [
    "cpyW = W.clone().detach()"
   ]
  },
  {
   "cell_type": "markdown",
   "metadata": {},
   "source": [
    "Backpropagation"
   ]
  },
  {
   "cell_type": "code",
   "execution_count": 41,
   "metadata": {},
   "outputs": [
    {
     "data": {
      "text/plain": [
       "torch.Size([192198, 27])"
      ]
     },
     "execution_count": 41,
     "metadata": {},
     "output_type": "execute_result"
    }
   ],
   "source": [
    "zenc = F.one_hot(zs,num_classes=27).float()\n",
    "zenc.shape"
   ]
  },
  {
   "cell_type": "code",
   "execution_count": 46,
   "metadata": {},
   "outputs": [
    {
     "data": {
      "text/plain": [
       "tensor([-2.8728,  0.2079,  0.3033,  0.4602, -0.4113, -0.5321, -0.3622, -0.2333,\n",
       "        -1.4056, -1.9979, -1.1313,  0.5306,  1.0756, -0.1519,  2.6782,  1.3059,\n",
       "        -1.2850, -0.6498, -2.7589,  0.5130, -1.5979,  0.4884, -0.1390,  0.6705,\n",
       "        -0.5244, -1.2992, -0.1628], grad_fn=<SliceBackward0>)"
      ]
     },
     "execution_count": 46,
     "metadata": {},
     "output_type": "execute_result"
    }
   ],
   "source": [
    "W[1,1,:]"
   ]
  },
  {
   "cell_type": "code",
   "execution_count": 47,
   "metadata": {},
   "outputs": [
    {
     "data": {
      "text/plain": [
       "tensor([[-2.8728,  0.2079,  0.3033,  0.4602, -0.4113, -0.5321, -0.3622, -0.2333,\n",
       "         -1.4056, -1.9979, -1.1313,  0.5306,  1.0756, -0.1519,  2.6782,  1.3059,\n",
       "         -1.2850, -0.6498, -2.7589,  0.5130, -1.5979,  0.4884, -0.1390,  0.6705,\n",
       "         -0.5244, -1.2992, -0.1628],\n",
       "        [-1.0330, -2.0707,  0.5708,  0.2341,  0.0701,  0.3084,  0.5823,  2.1389,\n",
       "          1.2318, -0.0861,  0.8318,  0.0696,  0.9047,  0.5470, -0.6897, -0.2083,\n",
       "         -0.5043, -0.6823, -0.7821, -0.6801, -2.0858, -0.0210,  0.4577, -0.5234,\n",
       "         -0.4826, -0.4761, -0.6177]], grad_fn=<IndexBackward0>)"
      ]
     },
     "execution_count": 47,
     "metadata": {},
     "output_type": "execute_result"
    }
   ],
   "source": [
    "W[[1,2],[1,2]]"
   ]
  },
  {
   "cell_type": "code",
   "execution_count": 55,
   "metadata": {},
   "outputs": [
    {
     "name": "stdout",
     "output_type": "stream",
     "text": [
      "tensor(3.1296, grad_fn=<DivBackward1>)\n",
      "tensor(3.1313, grad_fn=<DivBackward1>)\n",
      "tensor(3.1329, grad_fn=<DivBackward1>)\n",
      "tensor(3.1345, grad_fn=<DivBackward1>)\n",
      "tensor(3.1362, grad_fn=<DivBackward1>)\n",
      "tensor(3.1378, grad_fn=<DivBackward1>)\n",
      "tensor(3.1395, grad_fn=<DivBackward1>)\n",
      "tensor(3.1411, grad_fn=<DivBackward1>)\n",
      "tensor(3.1428, grad_fn=<DivBackward1>)\n",
      "tensor(3.1444, grad_fn=<DivBackward1>)\n"
     ]
    }
   ],
   "source": [
    "step_size = 0.01*1\n",
    "for i in range(10):\n",
    "    #forward pass\n",
    "    logits  =W[xs,ys,:]\n",
    "    loss = F.cross_entropy(logits,zenc)\n",
    "\n",
    "    #backward pass\n",
    "    W.grad = None\n",
    "    loss.backward()\n",
    "\n",
    "    #update \n",
    "    W.data+=W.grad*step_size*1\n",
    "\n",
    "    print(loss)"
   ]
  },
  {
   "cell_type": "code",
   "execution_count": 52,
   "metadata": {},
   "outputs": [
    {
     "name": "stdout",
     "output_type": "stream",
     "text": [
      "vunjde\n",
      "vhkaqvzop\n",
      "vfsygocvta\n",
      "vh\n",
      "rwtohcmwssgez\n",
      "vdlhjpdcirfblcvhackdbduilrwibflysnjqieayvawtbzfnvuumthjfoltumjrpfyystwwq\n",
      "vawq\n",
      "vofeayxezocfkxwvadwdyejfmokpbwynflwtgcasnhmvjkmomszhhxdsorfzptfugiczqcjpiupmtydtggqyrsru\n",
      "iyumujsyuxjemujcmjhvzywtbvpph\n",
      "gmwarr\n"
     ]
    }
   ],
   "source": [
    "#sampling\n",
    "g = torch.Generator().manual_seed(2147483647)\n",
    "\n",
    "for i in range(10):\n",
    "    out = []\n",
    "    ix,iy= 0,27 # ix = . iy = <s>\n",
    "    while True:\n",
    "        l_logits = W[ix,iy] # gives the 3rd dimension of the weight corresponding to each 27 neurons of the pair ix,iy\n",
    "        l_counts = l_logits.exp()\n",
    "        l_p = l_counts/l_counts.sum()\n",
    "\n",
    "        iz = torch.multinomial(l_p,num_samples=1,replacement=True,generator=g).item()\n",
    "        if iz==0:\n",
    "            break\n",
    "        out.append(itos[iz])\n",
    "        ix,iy = iy,iz\n",
    "    print(''.join(out))"
   ]
  },
  {
   "cell_type": "markdown",
   "metadata": {},
   "source": [
    "The above is the output at loss < 3.000 but gives gibberish."
   ]
  }
 ],
 "metadata": {
  "kernelspec": {
   "display_name": "Python (virtual micrograd)",
   "language": "python",
   "name": "myenv"
  },
  "language_info": {
   "codemirror_mode": {
    "name": "ipython",
    "version": 3
   },
   "file_extension": ".py",
   "mimetype": "text/x-python",
   "name": "python",
   "nbconvert_exporter": "python",
   "pygments_lexer": "ipython3",
   "version": "3.12.5"
  }
 },
 "nbformat": 4,
 "nbformat_minor": 2
}
