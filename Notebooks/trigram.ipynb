{
 "cells": [
  {
   "cell_type": "code",
   "execution_count": 1,
   "metadata": {},
   "outputs": [],
   "source": [
    "words = open('../names.txt','r').read().splitlines()"
   ]
  },
  {
   "cell_type": "code",
   "execution_count": 2,
   "metadata": {},
   "outputs": [],
   "source": [
    "import torch"
   ]
  },
  {
   "cell_type": "code",
   "execution_count": 28,
   "metadata": {},
   "outputs": [],
   "source": [
    "# stoi and itos dicts\n",
    "chars = ['.']+sorted([chr(char) for char in range(ord('a'),ord('z')+1)])+['<s>']\n",
    "stoi = {s:i for i,s in enumerate(chars)}\n",
    "itos = {i:s for s,i in stoi.items()}"
   ]
  },
  {
   "cell_type": "code",
   "execution_count": 19,
   "metadata": {},
   "outputs": [],
   "source": [
    "N = torch.zeros(28,28,27) # cuz I wouldn't expect <s> for the 3rd dimension. and anyway its just a filler character."
   ]
  },
  {
   "cell_type": "code",
   "execution_count": 20,
   "metadata": {},
   "outputs": [],
   "source": [
    "#filling the N array.\n",
    "for word in words:\n",
    "    chs = ['.']+['<s>']+list(word)+['.']\n",
    "    for cha,chb,chc in zip(chs,chs[1:],chs[2:]):\n",
    "        # print(f'cha,chb,chc : {cha,chb,chc}')\n",
    "        i,j,k = stoi[cha],stoi[chb],stoi[chc]\n",
    "        N[i,j,k]+=1"
   ]
  },
  {
   "cell_type": "code",
   "execution_count": 109,
   "metadata": {},
   "outputs": [
    {
     "data": {
      "text/plain": [
       "tensor(228146.)"
      ]
     },
     "execution_count": 109,
     "metadata": {},
     "output_type": "execute_result"
    }
   ],
   "source": [
    "N.sum() # the count will be same as you can imagine each increment is like sliding over the name and turns out with your current approach you are sliding as much as when you were doing bigrams with just window size of 3.\n"
   ]
  },
  {
   "cell_type": "code",
   "execution_count": 110,
   "metadata": {},
   "outputs": [],
   "source": [
    "P = (N+1).float()\n",
    "# print(P.sum(dim=2).shape) #wrong # torch.Size([28, 28])\n",
    "# print(P.shape) # torch.Size([28, 28, 27])\n",
    "# P.sum(dim=2,keepdim=True).shape #torch.Size([28, 28, 1])\n",
    "P/=P.sum(dim=2,keepdim=True)"
   ]
  },
  {
   "cell_type": "code",
   "execution_count": 111,
   "metadata": {},
   "outputs": [],
   "source": [
    "log_likelihood=0.0\n",
    "ncount=0\n",
    "for w in words:\n",
    "    # chs = ['.']+['<s>']+list(word)+['.']\n",
    "    chs = ['.']+['<s>']+list(w)+['.'] #bug identified.\n",
    "    for cha,chb,chc in zip(chs,chs[1:],chs[2:]):\n",
    "        i,j,k = stoi[cha],stoi[chb],stoi[chc]\n",
    "        prob = P[i,j,k]\n",
    "        log_likelihood+=torch.log(prob)\n",
    "        ncount+=1\n",
    "neg_log_likelihood = -log_likelihood\n",
    "mean_neg_log_likelihood = neg_log_likelihood/ncount"
   ]
  },
  {
   "cell_type": "code",
   "execution_count": 112,
   "metadata": {},
   "outputs": [
    {
     "name": "stdout",
     "output_type": "stream",
     "text": [
      "neg_log_likelihood=tensor(504653.)\n",
      "mean_neg_log_likelihood=tensor(2.2120)\n",
      "228146\n"
     ]
    }
   ],
   "source": [
    "print(f'{neg_log_likelihood=}')\n",
    "print(f'{mean_neg_log_likelihood=}')\n",
    "print(ncount)"
   ]
  },
  {
   "cell_type": "code",
   "execution_count": 114,
   "metadata": {},
   "outputs": [
    {
     "name": "stdout",
     "output_type": "stream",
     "text": [
      "junide\n",
      "jakasid\n",
      "prelay\n",
      "adin\n",
      "kairritoper\n",
      "sathen\n",
      "sameia\n",
      "yanileniassibduinrwin\n",
      "lessiyanayla\n",
      "te\n"
     ]
    }
   ],
   "source": [
    "g = torch.Generator().manual_seed(2147483647)\n",
    "\n",
    "\n",
    "for _ in range(10):\n",
    "    nameList = []\n",
    "    ix,iy =0,27\n",
    "    while True:\n",
    "        p = P[ix,iy]\n",
    "        iz = torch.multinomial(p,num_samples=1,replacement=True,generator=g).item()\n",
    "        if iz==0:\n",
    "            break\n",
    "        nameList.append(itos[iz])\n",
    "        ix,iy=iy,iz\n",
    "    print(''.join(nameList))"
   ]
  },
  {
   "cell_type": "markdown",
   "metadata": {},
   "source": [
    "Implementing the neural net."
   ]
  },
  {
   "cell_type": "code",
   "execution_count": 116,
   "metadata": {},
   "outputs": [],
   "source": [
    "nnNames = list(words)"
   ]
  },
  {
   "cell_type": "code",
   "execution_count": 117,
   "metadata": {},
   "outputs": [],
   "source": [
    "import random\n",
    "random.shuffle(nnNames)\n",
    "\n",
    "train_size = int(0.8 * len(nnNames))\n",
    "dev_size = int(0.1 * len(nnNames))\n",
    "test_size = len(nnNames) - train_size - dev_size\n",
    "\n",
    "train_data = nnNames[:train_size]\n",
    "dev_data = nnNames[train_size:train_size + dev_size]\n",
    "test_data = nnNames[train_size + dev_size:]"
   ]
  },
  {
   "cell_type": "code",
   "execution_count": 162,
   "metadata": {},
   "outputs": [],
   "source": [
    "xs,ys,zs = [],[],[]\n",
    "\n",
    "# for name in nnNames: # should be using train data here\n",
    "for name in train_data:\n",
    "    # n = ['.']+['<s>']+list(word)+['.'] #same bug using word instead of name...\n",
    "    n = ['.']+['<s>']+list(name)+['.']\n",
    "    for cha,chb,chc in zip(n,n[1:],n[2:]):\n",
    "        xs.append(stoi[cha])\n",
    "        ys.append(stoi[chb])\n",
    "        zs.append(stoi[chc])\n",
    "\n",
    "xs,ys,zs = torch.tensor(xs),torch.tensor(ys),torch.tensor(zs)"
   ]
  },
  {
   "cell_type": "code",
   "execution_count": 163,
   "metadata": {},
   "outputs": [
    {
     "data": {
      "text/plain": [
       "(torch.Size([182636]), torch.Size([182636]), torch.Size([182636]))"
      ]
     },
     "execution_count": 163,
     "metadata": {},
     "output_type": "execute_result"
    }
   ],
   "source": [
    "xs.shape,ys.shape,zs.shape"
   ]
  },
  {
   "cell_type": "code",
   "execution_count": 120,
   "metadata": {},
   "outputs": [],
   "source": [
    "import torch.nn.functional as F"
   ]
  },
  {
   "cell_type": "code",
   "execution_count": 121,
   "metadata": {},
   "outputs": [],
   "source": [
    "# was thinking like how we used W as the same dimension as N in bigram I think I should do the same here\n",
    "W = torch.randn((28,28,27),requires_grad=True)\n"
   ]
  },
  {
   "cell_type": "code",
   "execution_count": 122,
   "metadata": {},
   "outputs": [],
   "source": [
    "cpyW = W.clone().detach()"
   ]
  },
  {
   "cell_type": "markdown",
   "metadata": {},
   "source": [
    "Backpropagation"
   ]
  },
  {
   "cell_type": "code",
   "execution_count": 123,
   "metadata": {},
   "outputs": [
    {
     "data": {
      "text/plain": [
       "torch.Size([182636, 27])"
      ]
     },
     "execution_count": 123,
     "metadata": {},
     "output_type": "execute_result"
    }
   ],
   "source": [
    "zenc = F.one_hot(zs,num_classes=27).float()\n",
    "zenc.shape"
   ]
  },
  {
   "cell_type": "code",
   "execution_count": 124,
   "metadata": {},
   "outputs": [
    {
     "data": {
      "text/plain": [
       "tensor([-1.6171, -0.6645,  0.5212,  0.0623,  0.4992, -0.6868,  0.9780,  0.1445,\n",
       "        -0.6494,  0.5022,  0.0471,  0.8851,  0.3390, -0.8820, -0.7232, -1.3166,\n",
       "        -0.1695, -0.1290,  2.2472, -0.1777,  1.5775, -1.1554, -1.1667,  0.0774,\n",
       "        -1.1502,  1.0874, -0.8565], grad_fn=<SliceBackward0>)"
      ]
     },
     "execution_count": 124,
     "metadata": {},
     "output_type": "execute_result"
    }
   ],
   "source": [
    "W[1,1,:]"
   ]
  },
  {
   "cell_type": "code",
   "execution_count": 125,
   "metadata": {},
   "outputs": [
    {
     "data": {
      "text/plain": [
       "tensor([[-1.6171, -0.6645,  0.5212,  0.0623,  0.4992, -0.6868,  0.9780,  0.1445,\n",
       "         -0.6494,  0.5022,  0.0471,  0.8851,  0.3390, -0.8820, -0.7232, -1.3166,\n",
       "         -0.1695, -0.1290,  2.2472, -0.1777,  1.5775, -1.1554, -1.1667,  0.0774,\n",
       "         -1.1502,  1.0874, -0.8565],\n",
       "        [ 0.4748,  1.2822,  0.3095, -0.7268,  0.8141,  1.4176, -0.5450, -0.0938,\n",
       "          0.1917,  1.4946, -2.2174,  1.6186,  0.4499, -1.6243, -0.6266, -0.2850,\n",
       "          2.4141, -1.2275,  1.9610, -1.0391,  0.5133,  0.3828, -1.1896, -0.9299,\n",
       "         -0.4605, -0.1121,  0.1388]], grad_fn=<IndexBackward0>)"
      ]
     },
     "execution_count": 125,
     "metadata": {},
     "output_type": "execute_result"
    }
   ],
   "source": [
    "W[[1,2],[1,2]]"
   ]
  },
  {
   "cell_type": "code",
   "execution_count": 310,
   "metadata": {},
   "outputs": [
    {
     "name": "stdout",
     "output_type": "stream",
     "text": [
      "tensor(2.3181, grad_fn=<DivBackward1>)\n",
      "tensor(2.3181, grad_fn=<DivBackward1>)\n",
      "tensor(2.3180, grad_fn=<DivBackward1>)\n",
      "tensor(2.3179, grad_fn=<DivBackward1>)\n",
      "tensor(2.3179, grad_fn=<DivBackward1>)\n",
      "tensor(2.3178, grad_fn=<DivBackward1>)\n",
      "tensor(2.3177, grad_fn=<DivBackward1>)\n",
      "tensor(2.3176, grad_fn=<DivBackward1>)\n",
      "tensor(2.3176, grad_fn=<DivBackward1>)\n",
      "tensor(2.3175, grad_fn=<DivBackward1>)\n"
     ]
    }
   ],
   "source": [
    "step_size = 0.01*1000\n",
    "for i in range(10):\n",
    "    #forward pass\n",
    "    logits  =W[xs,ys,:]\n",
    "    loss = F.cross_entropy(logits,zenc)\n",
    "\n",
    "    #backward pass\n",
    "    W.grad = None\n",
    "    loss.backward()\n",
    "\n",
    "    #update \n",
    "    W.data+=W.grad*step_size*-1\n",
    "\n",
    "    print(loss)"
   ]
  },
  {
   "cell_type": "code",
   "execution_count": 311,
   "metadata": {},
   "outputs": [
    {
     "name": "stdout",
     "output_type": "stream",
     "text": [
      "junjdmdianasid\n",
      "prosay\n",
      "adin\n",
      "kai\n",
      "ritonian\n",
      "juwa\n",
      "kalinaaurinileniassdbduinrwibwxdskjyinayla\n",
      "te\n",
      "farmumtsjfortumj\n",
      "poyashiah\n"
     ]
    }
   ],
   "source": [
    "#sampling\n",
    "g = torch.Generator().manual_seed(2147483647)\n",
    "\n",
    "for i in range(10):\n",
    "    out = []\n",
    "    ix,iy= 0,27 # ix = . iy = <s>\n",
    "    while True:\n",
    "        l_logits = W[ix,iy] # gives the 3rd dimension of the weight corresponding to each 27 neurons of the pair ix,iy\n",
    "        l_counts = l_logits.exp()\n",
    "        l_p = l_counts/l_counts.sum()\n",
    "\n",
    "        iz = torch.multinomial(l_p,num_samples=1,replacement=True,generator=g).item()\n",
    "        if iz==0:\n",
    "            break\n",
    "        out.append(itos[iz])\n",
    "        ix,iy = iy,iz\n",
    "    print(''.join(out))"
   ]
  },
  {
   "cell_type": "markdown",
   "metadata": {},
   "source": [
    "Okay so its a little better now."
   ]
  },
  {
   "cell_type": "markdown",
   "metadata": {},
   "source": [
    "Turns out ther was a bug in the loop that prepared the xs,ys and zs."
   ]
  },
  {
   "cell_type": "markdown",
   "metadata": {},
   "source": [
    "Testing of the model on the test set."
   ]
  },
  {
   "cell_type": "code",
   "execution_count": 321,
   "metadata": {},
   "outputs": [],
   "source": [
    "tx,ty,tz = [],[],[]\n",
    "for name in test_data:\n",
    "    n = ['.']+['<s>']+list(name)+['.']\n",
    "    for cha,chb,chc in zip(n,n[1:],n[2:]):\n",
    "        tx.append(stoi[cha])\n",
    "        ty.append(stoi[chb])\n",
    "        tz.append(stoi[chc])\n",
    "\n",
    "tx,ty,tz = torch.tensor(tx),torch.tensor(ty),torch.tensor(tz)\n",
    "tzenc = F.one_hot(tz,num_classes=27).float()"
   ]
  },
  {
   "cell_type": "code",
   "execution_count": 322,
   "metadata": {},
   "outputs": [
    {
     "data": {
      "text/plain": [
       "(torch.Size([22779]),\n",
       " torch.Size([22779]),\n",
       " torch.Size([22779]),\n",
       " torch.Size([22779, 27]))"
      ]
     },
     "execution_count": 322,
     "metadata": {},
     "output_type": "execute_result"
    }
   ],
   "source": [
    "tx.shape,ty.shape,tz.shape,tzenc.shape"
   ]
  },
  {
   "cell_type": "markdown",
   "metadata": {},
   "source": [
    "Evaluating loss"
   ]
  },
  {
   "cell_type": "code",
   "execution_count": 323,
   "metadata": {},
   "outputs": [
    {
     "data": {
      "text/plain": [
       "tensor(2.3320, grad_fn=<DivBackward1>)"
      ]
     },
     "execution_count": 323,
     "metadata": {},
     "output_type": "execute_result"
    }
   ],
   "source": [
    "t_logits = W[tx,ty]\n",
    "loss = F.cross_entropy(t_logits,tzenc)\n",
    "loss"
   ]
  }
 ],
 "metadata": {
  "kernelspec": {
   "display_name": "Python (virtual micrograd)",
   "language": "python",
   "name": "myenv"
  },
  "language_info": {
   "codemirror_mode": {
    "name": "ipython",
    "version": 3
   },
   "file_extension": ".py",
   "mimetype": "text/x-python",
   "name": "python",
   "nbconvert_exporter": "python",
   "pygments_lexer": "ipython3",
   "version": "3.12.5"
  }
 },
 "nbformat": 4,
 "nbformat_minor": 2
}
